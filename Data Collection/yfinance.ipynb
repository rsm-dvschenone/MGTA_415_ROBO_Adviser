{
 "cells": [
  {
   "cell_type": "code",
   "execution_count": 2,
   "id": "e6bcdc15",
   "metadata": {},
   "outputs": [],
   "source": [
    "import yfinance as yf\n",
    "import pandas as pd\n",
    "import numpy as np"
   ]
  },
  {
   "cell_type": "code",
   "execution_count": 3,
   "id": "fcf94cde",
   "metadata": {},
   "outputs": [],
   "source": [
    "def fetch_stock_data(ticker: str = \"NVDA\", period: str = \"60d\", interval: str = \"1d\") -> pd.DataFrame:\n",
    "    \"\"\"\n",
    "    Fetch historical stock data using yfinance.\n",
    "    \"\"\"\n",
    "    stock = yf.Ticker(ticker)\n",
    "    hist = stock.history(period=period, interval=interval)\n",
    "    hist.reset_index(inplace=True)\n",
    "    return hist"
   ]
  },
  {
   "cell_type": "code",
   "execution_count": 4,
   "id": "2b3fcc2c",
   "metadata": {},
   "outputs": [],
   "source": [
    "def compute_technical_indicators(df: pd.DataFrame) -> pd.DataFrame:\n",
    "    \"\"\"\n",
    "    Compute RSI and MACD indicators and append to the stock data.\n",
    "    \"\"\"\n",
    "    # RSI (14-day)\n",
    "    delta = df['Close'].diff()\n",
    "    gain = np.where(delta > 0, delta, 0)\n",
    "    loss = np.where(delta < 0, -delta, 0)\n",
    "    avg_gain = pd.Series(gain).rolling(window=14).mean()\n",
    "    avg_loss = pd.Series(loss).rolling(window=14).mean()\n",
    "    rs = avg_gain / avg_loss\n",
    "    rsi = 100 - (100 / (1 + rs))\n",
    "    df['RSI_14'] = rsi\n",
    "\n",
    "    # MACD (12-day EMA - 26-day EMA)\n",
    "    ema_12 = df['Close'].ewm(span=12, adjust=False).mean()\n",
    "    ema_26 = df['Close'].ewm(span=26, adjust=False).mean()\n",
    "    macd = ema_12 - ema_26\n",
    "    signal = macd.ewm(span=9, adjust=False).mean()\n",
    "    df['MACD'] = macd\n",
    "    df['MACD_Signal'] = signal\n",
    "    df['MACD_Hist'] = df['MACD'] - df['MACD_Signal']\n",
    "\n",
    "    return df"
   ]
  },
  {
   "cell_type": "code",
   "execution_count": 5,
   "id": "2b9a3de0",
   "metadata": {},
   "outputs": [
    {
     "name": "stdout",
     "output_type": "stream",
     "text": [
      "                        Date        Open        High         Low       Close  \\\n",
      "55 2025-07-30 00:00:00-04:00  176.509995  179.889999  176.039993  179.270004   \n",
      "56 2025-07-31 00:00:00-04:00  182.899994  183.300003  175.929993  177.869995   \n",
      "57 2025-08-01 00:00:00-04:00  174.089996  176.539993  170.889999  173.720001   \n",
      "58 2025-08-04 00:00:00-04:00  175.160004  180.199997  174.520004  180.000000   \n",
      "59 2025-08-05 00:00:00-04:00  179.619995  180.259995  175.899994  178.259995   \n",
      "\n",
      "       Volume  Dividends  Stock Splits     RSI_14      MACD  MACD_Signal  \\\n",
      "55  174312200        0.0           0.0  73.874718  7.097559     7.076429   \n",
      "56  221685400        0.0           0.0  70.015438  7.019476     7.065038   \n",
      "57  204529000        0.0           0.0  63.534344  6.547252     6.961481   \n",
      "58  148174600        0.0           0.0  63.172796  6.603633     6.889911   \n",
      "59  152248661        0.0           0.0  59.472081  6.433746     6.798678   \n",
      "\n",
      "    MACD_Hist  \n",
      "55   0.021130  \n",
      "56  -0.045562  \n",
      "57  -0.414229  \n",
      "58  -0.286279  \n",
      "59  -0.364932  \n"
     ]
    }
   ],
   "source": [
    "def nvda_data_pipeline():\n",
    "    \"\"\"\n",
    "    Full pipeline to get NVDA stock data and compute technical indicators.\n",
    "    \"\"\"\n",
    "    df = fetch_stock_data(\"NVDA\", \"60d\", \"1d\")\n",
    "    enriched_df = compute_technical_indicators(df)\n",
    "    return enriched_df\n",
    "\n",
    "# Run it\n",
    "if __name__ == \"__main__\":\n",
    "    df = nvda_data_pipeline()\n",
    "    print(df.tail())"
   ]
  }
 ],
 "metadata": {
  "kernelspec": {
   "display_name": "base",
   "language": "python",
   "name": "python3"
  },
  "language_info": {
   "codemirror_mode": {
    "name": "ipython",
    "version": 3
   },
   "file_extension": ".py",
   "mimetype": "text/x-python",
   "name": "python",
   "nbconvert_exporter": "python",
   "pygments_lexer": "ipython3",
   "version": "3.12.7"
  }
 },
 "nbformat": 4,
 "nbformat_minor": 5
}
