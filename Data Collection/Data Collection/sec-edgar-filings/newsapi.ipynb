{
 "cells": [
  {
   "cell_type": "code",
   "execution_count": null,
   "id": "edbe242f",
   "metadata": {},
   "outputs": [],
   "source": []
  },
  {
   "cell_type": "code",
   "execution_count": 3,
   "id": "6e9ba2eb",
   "metadata": {},
   "outputs": [
    {
     "name": "stdout",
     "output_type": "stream",
     "text": [
      "Collecting newsapi-python\n",
      "  Using cached newsapi_python-0.2.7-py2.py3-none-any.whl.metadata (1.2 kB)\n",
      "Requirement already satisfied: requests<3.0.0 in /opt/conda/lib/python3.12/site-packages (from newsapi-python) (2.32.3)\n",
      "Requirement already satisfied: charset-normalizer<4,>=2 in /opt/conda/lib/python3.12/site-packages (from requests<3.0.0->newsapi-python) (3.4.0)\n",
      "Requirement already satisfied: idna<4,>=2.5 in /opt/conda/lib/python3.12/site-packages (from requests<3.0.0->newsapi-python) (3.10)\n",
      "Requirement already satisfied: urllib3<3,>=1.21.1 in /opt/conda/lib/python3.12/site-packages (from requests<3.0.0->newsapi-python) (2.2.3)\n",
      "Requirement already satisfied: certifi>=2017.4.17 in /opt/conda/lib/python3.12/site-packages (from requests<3.0.0->newsapi-python) (2024.12.14)\n",
      "Using cached newsapi_python-0.2.7-py2.py3-none-any.whl (7.9 kB)\n",
      "Installing collected packages: newsapi-python\n",
      "Successfully installed newsapi-python-0.2.7\n",
      "Note: you may need to restart the kernel to use updated packages.\n"
     ]
    }
   ],
   "source": [
    "pip install newsapi-python\n"
   ]
  },
  {
   "cell_type": "code",
   "execution_count": null,
   "id": "7d6d3914",
   "metadata": {},
   "outputs": [],
   "source": [
    "api_key = '0099e62b0d23445e8be391a4e96b4810'\n",
    "from newsapi import NewsApiClient\n",
    "from datetime import datetime, timedelta\n",
    "\n",
    "def fetch_nvidia_news(api_key: str, days_back: int = 1, total_articles: int = 50):\n",
    "    newsapi = NewsApiClient(api_key=api_key)\n",
    "\n",
    "    from_date = (datetime.now() - timedelta(days=days_back)).strftime('%Y-%m-%d')\n",
    "    to_date = datetime.now().strftime('%Y-%m-%d')\n",
    "\n",
    "    all_titles = []\n",
    "    page = 1\n",
    "    while len(all_titles) < total_articles:\n",
    "        response = newsapi.get_everything(\n",
    "            q=\"NVIDIA\",\n",
    "            from_param=from_date,\n",
    "            to=to_date,\n",
    "            language=\"en\",\n",
    "            sort_by=\"relevancy\",\n",
    "            page_size=min(100, total_articles - len(all_titles)),\n",
    "            page=page\n",
    "        )\n",
    "        articles = response.get(\"articles\", [])\n",
    "        titles = [a[\"title\"] for a in articles if a.get(\"title\")]\n",
    "        all_titles.extend(titles)\n",
    "        if len(articles) < 1:\n",
    "            break\n",
    "        page += 1\n",
    "\n",
    "    return all_titles\n",
    "\n",
    "api_key = api_key\n",
    "newsapi = NewsApiClient(api_key=api_key)\n",
    "\n",
    "response = newsapi.get_everything(q=\"NVIDIA\", language=\"en\", sort_by=\"relevancy\", page_size=5)\n",
    "\n",
    "for article in response[\"articles\"]:\n",
    "    print(\"📰\", article[\"title\"])\n"
   ]
  },
  {
   "cell_type": "code",
   "execution_count": 5,
   "id": "5e81373e",
   "metadata": {},
   "outputs": [
    {
     "name": "stdout",
     "output_type": "stream",
     "text": [
      "📰 US demands cut of Nvidia sales in order to ship AI chips to China\n",
      "📰 Nvidia Just Dodged an $8 Billion Bullet, Thanks to Donald Trump\n",
      "📰 ‘It’s Not Going to Slow Down’: The Tech Stock Everyone Is Watching This Week\n",
      "📰 Nvidia’s Six-Word Response to China\n",
      "📰 YouTube makes it easy for TV users to skip to the best bits of videos\n"
     ]
    }
   ],
   "source": [
    "from newsapi import NewsApiClient\n",
    "\n",
    "api_key = api_key\n",
    "newsapi = NewsApiClient(api_key=api_key)\n",
    "\n",
    "response = newsapi.get_everything(q=\"NVIDIA\", language=\"en\", sort_by=\"relevancy\", page_size=5)\n",
    "\n",
    "for article in response[\"articles\"]:\n",
    "    print(\"📰\", article[\"title\"])"
   ]
  }
 ],
 "metadata": {
  "kernelspec": {
   "display_name": "base",
   "language": "python",
   "name": "python3"
  },
  "language_info": {
   "codemirror_mode": {
    "name": "ipython",
    "version": 3
   },
   "file_extension": ".py",
   "mimetype": "text/x-python",
   "name": "python",
   "nbconvert_exporter": "python",
   "pygments_lexer": "ipython3",
   "version": "3.12.7"
  }
 },
 "nbformat": 4,
 "nbformat_minor": 5
}
