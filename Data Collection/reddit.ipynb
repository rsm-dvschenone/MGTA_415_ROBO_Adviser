{
 "cells": [
  {
   "cell_type": "code",
   "execution_count": 6,
   "id": "e99eb7bf",
   "metadata": {},
   "outputs": [],
   "source": [
    "import praw"
   ]
  },
  {
   "cell_type": "code",
   "execution_count": 1,
   "id": "adde9d24",
   "metadata": {},
   "outputs": [
    {
     "name": "stdout",
     "output_type": "stream",
     "text": [
      "Collecting praw\n",
      "  Downloading praw-7.8.1-py3-none-any.whl.metadata (9.4 kB)\n",
      "Collecting prawcore<3,>=2.4 (from praw)\n",
      "  Downloading prawcore-2.4.0-py3-none-any.whl.metadata (5.0 kB)\n",
      "Collecting update_checker>=0.18 (from praw)\n",
      "  Downloading update_checker-0.18.0-py3-none-any.whl.metadata (2.3 kB)\n",
      "Requirement already satisfied: websocket-client>=0.54.0 in /opt/conda/lib/python3.12/site-packages (from praw) (1.8.0)\n",
      "Requirement already satisfied: requests<3.0,>=2.6.0 in /opt/conda/lib/python3.12/site-packages (from prawcore<3,>=2.4->praw) (2.32.3)\n",
      "Requirement already satisfied: charset-normalizer<4,>=2 in /opt/conda/lib/python3.12/site-packages (from requests<3.0,>=2.6.0->prawcore<3,>=2.4->praw) (3.4.0)\n",
      "Requirement already satisfied: idna<4,>=2.5 in /opt/conda/lib/python3.12/site-packages (from requests<3.0,>=2.6.0->prawcore<3,>=2.4->praw) (3.10)\n",
      "Requirement already satisfied: urllib3<3,>=1.21.1 in /opt/conda/lib/python3.12/site-packages (from requests<3.0,>=2.6.0->prawcore<3,>=2.4->praw) (2.2.3)\n",
      "Requirement already satisfied: certifi>=2017.4.17 in /opt/conda/lib/python3.12/site-packages (from requests<3.0,>=2.6.0->prawcore<3,>=2.4->praw) (2024.12.14)\n",
      "Downloading praw-7.8.1-py3-none-any.whl (189 kB)\n",
      "Downloading prawcore-2.4.0-py3-none-any.whl (17 kB)\n",
      "Downloading update_checker-0.18.0-py3-none-any.whl (7.0 kB)\n",
      "Installing collected packages: update_checker, prawcore, praw\n",
      "Successfully installed praw-7.8.1 prawcore-2.4.0 update_checker-0.18.0\n",
      "Note: you may need to restart the kernel to use updated packages.\n"
     ]
    }
   ],
   "source": [
    "pip install praw"
   ]
  },
  {
   "cell_type": "code",
   "execution_count": null,
   "id": "74d95a72",
   "metadata": {},
   "outputs": [],
   "source": [
    "client_id =\t'EfrdPP2uPFX7xv-nMNKCFQ'\n",
    "client_secret=\t'PaRTKKaXCdxW5q6biYW5zy0t4EY1Lw'\n",
    "user_agent= \"nvda-bot\"\n",
    "username = 'dschenone22'\n",
    "password= 'giggle15'"
   ]
  },
  {
   "cell_type": "code",
   "execution_count": 9,
   "id": "23de2ab2",
   "metadata": {},
   "outputs": [],
   "source": [
    "def init_reddit_client():\n",
    "    return praw.Reddit(\n",
    "        client_id=\"EfrdPP2uPFX7xv-nMNKCFQ\",\n",
    "        client_secret=\"PaRTKKaxCdxW5q6biYW5zy0t4EY1Lw\",\n",
    "        user_agent=\"NVDA Sentiment\",\n",
    "        username=\"dschenone22\",\n",
    "        password=\"giggle15\"  # Don't hardcode this in production!\n",
    "    )\n",
    "\n",
    "# ✅ Fetch posts from subreddits\n",
    "def fetch_reddit_posts(reddit, query=\"NVIDIA\", subreddits=[\"stocks\", \"investing\", \"wallstreetbets\"], limit=25):\n",
    "    posts = []\n",
    "    for subreddit_name in subreddits:\n",
    "        subreddit = reddit.subreddit(subreddit_name)\n",
    "        for submission in subreddit.search(query, sort=\"new\", time_filter=\"day\", limit=limit):\n",
    "            content = f\"{submission.title} {submission.selftext}\".strip()\n",
    "            if content:\n",
    "                posts.append(content)\n",
    "    return posts"
   ]
  },
  {
   "cell_type": "code",
   "execution_count": 11,
   "id": "ff49123a",
   "metadata": {},
   "outputs": [
    {
     "name": "stdout",
     "output_type": "stream",
     "text": [
      "[\"AMD reports weaker-than-expected earnings even as revenue tops estimates For the current quarter, AMD expects sales of $8.7 billion, plus or minus $300 million, versus expectations of earnings of $8.3 billion.\\n\\nAMD reported net income during its fiscal second quarter of $872 million, or 54 cents per share, increasing from $265 million, or 16 cents per share in the year-ago period. Nvidia's overall sales rose 32% in the period from $5.84 billion a year earlier.\\n\\nhttps://www.cnbc.com/amp/2025/08/05/amd-earnings-report-2q-2025.html\", 'Should I listen to advice to sell now? I’m new to stocks and trading in general so please cut me some slack. I would post in the beginners investing subreddit but I feel like this sub would be better to ask about market crash situations/scenarios. \\n\\nBasically, my parents encouraged me to sell most of my stocks that are up as soon as I can. They basically said the market is too high right now with the AI hype and it will come crashing down soon because it’s insanely high. They also said some investors(I think Buffet was one of them?) have sold out all of their US stocks expecting a crash soon. \\n\\nWhat advice do you have for me for this advice? I have <$10k in my account and a good amount is from the Nvidia boom and stocks my parents gifted me. The rest of them are just stocks I bought for fun and thought has a decent future. \\n\\nEdit: I’m still in my 20s so I’m investing for long term. The advice I got from parents was mainly to cash out profits for now before the market will crash as they think it will and then buy back in afterwards. I’m not and don’t plan on day trading but I do like/want/plan to have a more interactive approach than buy and leave alone.', 'Is AAPL still a buy? Compared to other companies such as Meta, Microsoft, or Google, it doesn’t seem like Apple’s stock growth has been that great lately. \\n\\nNow, it is widely known that Apple can afford to be slower to the AI game since people will use their devices regardless. But, it still seems like they are doing it very very slowly and not giving it as much urgency as other Big Tech companies. \\n\\nNvidia and Microsoft recently overtook Apple as the world’s largest companies by market cap. \\n\\nWhere does this go next, and will Apple slowly become smaller than even more companies, and will they collapse in the next 50 years or so?', 'Am I diversifying properly? I have a wealthsimple account where I have invested the following:\\n\\n700 into XGRO\\n\\n150 into VFV\\n\\n100 into VOO\\n\\n100 into [XEF.TO](http://XEF.TO)\\n\\n100 into VXUS\\n\\n50 into Figma\\n\\n50 into MSFT\\n\\n50 into Apple\\n\\n50 into Nvidia\\n\\n50 into exxon mobil\\n\\n50 into goog\\n\\n  \\nShould I be investing in any other sectors or niches? Is this taking on to much risk? Any advice could be nice. Just started my investment journey a month ago.', 'Aurora Innovation (AUR) -Current Leader in Autonomous Trucking Aurora Innovation (AUR) – Front Runner in Autonomous Trucking\\n\\nAurora Innovation is emerging as a leading player in autonomous trucking software and hardware, already conducting real-world testing on major U.S. freight routes.\\n\\n⸻\\n\\nKey Highlights • Cash on hand: $1.15–1.2B • Burn rate: $142M per quarter (~$600–700M annually) • Runway: ~6–7 quarters (18–22 months) at the current burn rate • Next steps to extend runway: Reduce burn, raise new funds, or both\\n\\n⸻\\n\\nStrategic Partnerships\\n\\nAurora has built strong alliances to accelerate autonomous trucking commercialization. Partnerships include: • Nvidia & Continental – hardware and software development for autonomous systems • Uber Freight, FedEx, Hirschbach, PACCAR, Ryder, Schneider, Volvo – logistics and trucking ecosystem collaborations\\n\\n⸻\\n\\nFounding Team • Chris Urmson – Former CTO of Google’s self-driving team (Waymo) • Sterling Anderson – Former head of Tesla Autopilot • Drew Bagnell – Former head of Uber’s autonomy and perception team\\n\\n⸻\\n\\nCurrent Testing • Test runs between Houston ↔ Dallas • Recently started El Paso ↔ Phoenix route (1,000 miles / 14 hours) • Advantage: This route exceeds the FMCSA Hours of Service limit (max 11 driving hours per day), giving autonomous trucks a major legal efficiency advantage.\\n\\n⸻\\n\\nCompetitive Landscape • Waymo – No longer in trucking; focused on robo‑taxis • Other competitors are either speculative or private (not investable) • Likely no “winner-take-all” scenario; leadership could shift over 5–10 years\\n\\n⸻\\n\\nInvestment Thesis • Market Cap: ~$11B (vs. Waymo at ~$45B) • No debt and $1B cash on hand • Analysts value AUR around $10/share\\n\\nUpside Potential • 0.5–2 years: Possible 100% gain • By 2030: Potential 10x return if Aurora emerges as a dominant player', 'Suffered for some time but recovered (for once)']\n"
     ]
    }
   ],
   "source": [
    "reddit = init_reddit_client()\n",
    "\n",
    "posts = fetch_reddit_posts(reddit, query=\"NVIDIA\", limit=10)\n",
    "\n",
    "print(posts)\n"
   ]
  }
 ],
 "metadata": {
  "kernelspec": {
   "display_name": "base",
   "language": "python",
   "name": "python3"
  },
  "language_info": {
   "codemirror_mode": {
    "name": "ipython",
    "version": 3
   },
   "file_extension": ".py",
   "mimetype": "text/x-python",
   "name": "python",
   "nbconvert_exporter": "python",
   "pygments_lexer": "ipython3",
   "version": "3.12.7"
  }
 },
 "nbformat": 4,
 "nbformat_minor": 5
}
