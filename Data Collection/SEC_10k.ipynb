{
 "cells": [
  {
   "cell_type": "code",
   "execution_count": 1,
   "id": "e778b150",
   "metadata": {},
   "outputs": [
    {
     "name": "stdout",
     "output_type": "stream",
     "text": [
      "Collecting sec_edgar_downloader\n",
      "  Downloading sec_edgar_downloader-5.0.3-py3-none-any.whl.metadata (11 kB)\n",
      "Requirement already satisfied: requests in /opt/conda/lib/python3.12/site-packages (from sec_edgar_downloader) (2.32.3)\n",
      "Collecting pyrate-limiter>=3.6.0 (from sec_edgar_downloader)\n",
      "  Downloading pyrate_limiter-3.9.0-py3-none-any.whl.metadata (28 kB)\n",
      "Requirement already satisfied: charset-normalizer<4,>=2 in /opt/conda/lib/python3.12/site-packages (from requests->sec_edgar_downloader) (3.4.0)\n",
      "Requirement already satisfied: idna<4,>=2.5 in /opt/conda/lib/python3.12/site-packages (from requests->sec_edgar_downloader) (3.10)\n",
      "Requirement already satisfied: urllib3<3,>=1.21.1 in /opt/conda/lib/python3.12/site-packages (from requests->sec_edgar_downloader) (2.2.3)\n",
      "Requirement already satisfied: certifi>=2017.4.17 in /opt/conda/lib/python3.12/site-packages (from requests->sec_edgar_downloader) (2024.12.14)\n",
      "Downloading sec_edgar_downloader-5.0.3-py3-none-any.whl (14 kB)\n",
      "Downloading pyrate_limiter-3.9.0-py3-none-any.whl (33 kB)\n",
      "Installing collected packages: pyrate-limiter, sec_edgar_downloader\n",
      "Successfully installed pyrate-limiter-3.9.0 sec_edgar_downloader-5.0.3\n",
      "Note: you may need to restart the kernel to use updated packages.\n"
     ]
    }
   ],
   "source": [
    "pip install sec_edgar_downloader"
   ]
  },
  {
   "cell_type": "code",
   "execution_count": 11,
   "id": "2a096c23",
   "metadata": {},
   "outputs": [
    {
     "ename": "FileNotFoundError",
     "evalue": "[Errno 2] No such file or directory: 'Data Collection/sec-edgar-filings'",
     "output_type": "error",
     "traceback": [
      "\u001b[0;31m---------------------------------------------------------------------------\u001b[0m",
      "\u001b[0;31mFileNotFoundError\u001b[0m                         Traceback (most recent call last)",
      "Cell \u001b[0;32mIn[11], line 63\u001b[0m\n\u001b[1;32m     61\u001b[0m \u001b[38;5;66;03m# ✅ 4. Example run\u001b[39;00m\n\u001b[1;32m     62\u001b[0m \u001b[38;5;28;01mif\u001b[39;00m \u001b[38;5;18m__name__\u001b[39m \u001b[38;5;241m==\u001b[39m \u001b[38;5;124m\"\u001b[39m\u001b[38;5;124m__main__\u001b[39m\u001b[38;5;124m\"\u001b[39m:\n\u001b[0;32m---> 63\u001b[0m     file_path \u001b[38;5;241m=\u001b[39m \u001b[43mdownload_latest_filing\u001b[49m\u001b[43m(\u001b[49m\u001b[38;5;124;43m\"\u001b[39;49m\u001b[38;5;124;43m10-Q\u001b[39;49m\u001b[38;5;124;43m\"\u001b[39;49m\u001b[43m)\u001b[49m\n\u001b[1;32m     64\u001b[0m \u001b[38;5;28;01mif\u001b[39;00m file_path:\n\u001b[1;32m     65\u001b[0m     \u001b[38;5;28mprint\u001b[39m(\u001b[38;5;124mf\u001b[39m\u001b[38;5;124m\"\u001b[39m\u001b[38;5;124m✅ Found latest filing: \u001b[39m\u001b[38;5;132;01m{\u001b[39;00mfile_path\u001b[38;5;132;01m}\u001b[39;00m\u001b[38;5;124m\"\u001b[39m)\n",
      "Cell \u001b[0;32mIn[11], line 13\u001b[0m, in \u001b[0;36mdownload_latest_filing\u001b[0;34m(form_type)\u001b[0m\n\u001b[1;32m     11\u001b[0m dl \u001b[38;5;241m=\u001b[39m Downloader(\u001b[38;5;124m\"\u001b[39m\u001b[38;5;124mdvschenone@ucsd.edu\u001b[39m\u001b[38;5;124m\"\u001b[39m, DATA_DIR)\n\u001b[1;32m     12\u001b[0m dl\u001b[38;5;241m.\u001b[39mget(form_type, \u001b[38;5;124m\"\u001b[39m\u001b[38;5;124mNVDA\u001b[39m\u001b[38;5;124m\"\u001b[39m)\n\u001b[0;32m---> 13\u001b[0m \u001b[38;5;28;01mreturn\u001b[39;00m \u001b[43mget_latest_filing_file\u001b[49m\u001b[43m(\u001b[49m\u001b[43mform_type\u001b[49m\u001b[43m)\u001b[49m\n",
      "Cell \u001b[0;32mIn[11], line 22\u001b[0m, in \u001b[0;36mget_latest_filing_file\u001b[0;34m(form_type)\u001b[0m\n\u001b[1;32m     19\u001b[0m latest_file \u001b[38;5;241m=\u001b[39m \u001b[38;5;28;01mNone\u001b[39;00m\n\u001b[1;32m     20\u001b[0m latest_mtime \u001b[38;5;241m=\u001b[39m \u001b[38;5;241m0\u001b[39m\n\u001b[0;32m---> 22\u001b[0m \u001b[38;5;28;01mfor\u001b[39;00m cik_folder \u001b[38;5;129;01min\u001b[39;00m \u001b[43mos\u001b[49m\u001b[38;5;241;43m.\u001b[39;49m\u001b[43mlistdir\u001b[49m\u001b[43m(\u001b[49m\u001b[43mfilings_root\u001b[49m\u001b[43m)\u001b[49m:\n\u001b[1;32m     23\u001b[0m     form_path \u001b[38;5;241m=\u001b[39m os\u001b[38;5;241m.\u001b[39mpath\u001b[38;5;241m.\u001b[39mjoin(filings_root, cik_folder, form_type)\n\u001b[1;32m     24\u001b[0m     \u001b[38;5;28;01mif\u001b[39;00m \u001b[38;5;129;01mnot\u001b[39;00m os\u001b[38;5;241m.\u001b[39mpath\u001b[38;5;241m.\u001b[39mexists(form_path):\n",
      "\u001b[0;31mFileNotFoundError\u001b[0m: [Errno 2] No such file or directory: 'Data Collection/sec-edgar-filings'"
     ]
    }
   ],
   "source": [
    "import os\n",
    "import re\n",
    "from bs4 import BeautifulSoup\n",
    "from sec_edgar_downloader import Downloader\n",
    "\n",
    "# ✅ MAIN FOLDER STRUCTURE CONFIG\n",
    "DATA_DIR = \"Data Collection/sec-edgar-filings\"\n",
    "\n",
    "# ✅ 1. Download latest filings into your target folder\n",
    "def download_latest_filing(form_type: str = \"10-Q\") -> str:\n",
    "    dl = Downloader(\"dvschenone@ucsd.edu\", DATA_DIR)\n",
    "    dl.get(form_type, \"NVDA\")\n",
    "    return get_latest_filing_file(form_type)\n",
    "\n",
    "\n",
    "# ✅ 2. Traverse folders to find latest primary-document\n",
    "def get_latest_filing_file(form_type: str) -> str:\n",
    "    filings_root = os.path.join(DATA_DIR)\n",
    "    latest_file = None\n",
    "    latest_mtime = 0\n",
    "\n",
    "    for cik_folder in os.listdir(filings_root):\n",
    "        form_path = os.path.join(filings_root, cik_folder, form_type)\n",
    "        if not os.path.exists(form_path):\n",
    "            continue\n",
    "\n",
    "        for root, _, files in os.walk(form_path):\n",
    "            for file in files:\n",
    "                if \"primary-document\" in file and (file.endswith(\".html\") or file.endswith(\".txt\")):\n",
    "                    file_path = os.path.join(root, file)\n",
    "                    mtime = os.path.getmtime(file_path)\n",
    "                    if mtime > latest_mtime:\n",
    "                        latest_file = file_path\n",
    "                        latest_mtime = mtime\n",
    "\n",
    "    return latest_file\n",
    "\n",
    "\n",
    "# ✅ 3. Extract \"Item 1A. Risk Factors\" from .html or .txt\n",
    "def extract_item_1a(file_path: str) -> str:\n",
    "    with open(file_path, \"r\", encoding=\"utf-8\", errors=\"ignore\") as f:\n",
    "        content = f.read()\n",
    "\n",
    "    # If it's HTML, parse and extract just the text\n",
    "    if \"<html\" in content.lower():\n",
    "        soup = BeautifulSoup(content, \"html.parser\")\n",
    "        text = soup.get_text(separator=\"\\n\")\n",
    "    else:\n",
    "        text = content\n",
    "\n",
    "    # Normalize and extract Item 1A section\n",
    "    text = re.sub(r'\\n+', '\\n', text)\n",
    "    pattern = r'(?i)(item\\s+1A\\.?\\s*[-–:]?\\s*Risk\\s+Factors)(.*?)(item\\s+1B\\.?|item\\s+2\\.)'\n",
    "    match = re.search(pattern, text, re.DOTALL)\n",
    "\n",
    "    if match:\n",
    "        return match.group(2).strip()\n",
    "    else:\n",
    "        return \"Item 1A section not found.\"\n",
    "\n",
    "# ✅ 4. Example run\n",
    "if __name__ == \"__main__\":\n",
    "    file_path = download_latest_filing(\"10-Q\")\n",
    "if file_path:\n",
    "    print(f\"✅ Found latest filing: {file_path}\")\n",
    "    print(extract_item_1a(file_path)[:1000])\n",
    "else:\n",
    "    print(\"❌ Still no filing found.\")\n",
    "\n",
    "\n",
    "\n"
   ]
  }
 ],
 "metadata": {
  "kernelspec": {
   "display_name": "base",
   "language": "python",
   "name": "python3"
  },
  "language_info": {
   "codemirror_mode": {
    "name": "ipython",
    "version": 3
   },
   "file_extension": ".py",
   "mimetype": "text/x-python",
   "name": "python",
   "nbconvert_exporter": "python",
   "pygments_lexer": "ipython3",
   "version": "3.12.7"
  }
 },
 "nbformat": 4,
 "nbformat_minor": 5
}
