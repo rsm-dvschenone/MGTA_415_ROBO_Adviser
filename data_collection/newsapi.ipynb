{
 "cells": [
  {
   "cell_type": "code",
   "execution_count": 5,
   "id": "edbe242f",
   "metadata": {},
   "outputs": [],
   "source": [
    "api_key = '0099e62b0d23445e8be391a4e96b4810'"
   ]
  },
  {
   "cell_type": "code",
   "execution_count": 7,
   "id": "6e9ba2eb",
   "metadata": {},
   "outputs": [
    {
     "name": "stdout",
     "output_type": "stream",
     "text": [
      "Requirement already satisfied: newsapi-python in /opt/conda/lib/python3.12/site-packages (0.2.7)\n",
      "Requirement already satisfied: requests<3.0.0 in /opt/conda/lib/python3.12/site-packages (from newsapi-python) (2.32.3)\n",
      "Requirement already satisfied: charset-normalizer<4,>=2 in /opt/conda/lib/python3.12/site-packages (from requests<3.0.0->newsapi-python) (3.4.0)\n",
      "Requirement already satisfied: idna<4,>=2.5 in /opt/conda/lib/python3.12/site-packages (from requests<3.0.0->newsapi-python) (3.10)\n",
      "Requirement already satisfied: urllib3<3,>=1.21.1 in /opt/conda/lib/python3.12/site-packages (from requests<3.0.0->newsapi-python) (2.2.3)\n",
      "Requirement already satisfied: certifi>=2017.4.17 in /opt/conda/lib/python3.12/site-packages (from requests<3.0.0->newsapi-python) (2024.12.14)\n",
      "Note: you may need to restart the kernel to use updated packages.\n"
     ]
    }
   ],
   "source": [
    "pip install newsapi-python\n"
   ]
  },
  {
   "cell_type": "code",
   "execution_count": 6,
   "id": "7d6d3914",
   "metadata": {},
   "outputs": [
    {
     "ename": "ImportError",
     "evalue": "cannot import name 'NewsApiClient' from 'newsapi' (/opt/conda/lib/python3.12/site-packages/newsapi/__init__.py)",
     "output_type": "error",
     "traceback": [
      "\u001b[0;31m---------------------------------------------------------------------------\u001b[0m",
      "\u001b[0;31mImportError\u001b[0m                               Traceback (most recent call last)",
      "Cell \u001b[0;32mIn[6], line 1\u001b[0m\n\u001b[0;32m----> 1\u001b[0m \u001b[38;5;28;01mfrom\u001b[39;00m \u001b[38;5;21;01mnewsapi\u001b[39;00m \u001b[38;5;28;01mimport\u001b[39;00m NewsApiClient\n\u001b[1;32m      2\u001b[0m \u001b[38;5;28;01mfrom\u001b[39;00m \u001b[38;5;21;01mdatetime\u001b[39;00m \u001b[38;5;28;01mimport\u001b[39;00m datetime, timedelta\n\u001b[1;32m      4\u001b[0m \u001b[38;5;28;01mdef\u001b[39;00m \u001b[38;5;21mfetch_nvidia_news\u001b[39m(api_key: \u001b[38;5;28mstr\u001b[39m, days_back: \u001b[38;5;28mint\u001b[39m \u001b[38;5;241m=\u001b[39m \u001b[38;5;241m1\u001b[39m, max_articles: \u001b[38;5;28mint\u001b[39m \u001b[38;5;241m=\u001b[39m \u001b[38;5;241m20\u001b[39m):\n",
      "\u001b[0;31mImportError\u001b[0m: cannot import name 'NewsApiClient' from 'newsapi' (/opt/conda/lib/python3.12/site-packages/newsapi/__init__.py)"
     ]
    }
   ],
   "source": [
    "from newsapi import NewsApiClient\n",
    "from datetime import datetime, timedelta\n",
    "\n",
    "def fetch_nvidia_news(api_key: str, days_back: int = 1, max_articles: int = 20):\n",
    "    newsapi = NewsApiClient(api_key=api_key)\n",
    "\n",
    "    from_date = (datetime.now() - timedelta(days=days_back)).strftime('%Y-%m-%d')\n",
    "    to_date = datetime.now().strftime('%Y-%m-%d')\n",
    "\n",
    "    response = newsapi.get_everything(\n",
    "        q=\"NVIDIA\",\n",
    "        from_param=from_date,\n",
    "        to=to_date,\n",
    "        language=\"en\",\n",
    "        sort_by=\"relevancy\",\n",
    "        page_size=max_articles\n",
    "    )\n",
    "\n",
    "    articles = response.get(\"articles\", [])\n",
    "    return [article[\"title\"] for article in articles if article.get(\"title\")]\n"
   ]
  }
 ],
 "metadata": {
  "kernelspec": {
   "display_name": "base",
   "language": "python",
   "name": "python3"
  },
  "language_info": {
   "codemirror_mode": {
    "name": "ipython",
    "version": 3
   },
   "file_extension": ".py",
   "mimetype": "text/x-python",
   "name": "python",
   "nbconvert_exporter": "python",
   "pygments_lexer": "ipython3",
   "version": "3.12.7"
  }
 },
 "nbformat": 4,
 "nbformat_minor": 5
}
